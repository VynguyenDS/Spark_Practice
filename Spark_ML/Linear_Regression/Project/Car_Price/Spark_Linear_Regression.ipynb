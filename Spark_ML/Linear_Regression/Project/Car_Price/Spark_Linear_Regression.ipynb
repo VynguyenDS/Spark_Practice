{
  "nbformat": 4,
  "nbformat_minor": 0,
  "metadata": {
    "colab": {
      "name": "Spark_Linear_Regression.ipynb",
      "provenance": [],
      "collapsed_sections": []
    },
    "kernelspec": {
      "name": "python3",
      "display_name": "Python 3"
    },
    "language_info": {
      "name": "python"
    }
  },
  "cells": [
    {
      "cell_type": "code",
      "metadata": {
        "id": "g22UQlJnsB-N"
      },
      "source": [
        "# ! pip install spark\n",
        "import pandas as pd \n",
        "import numpy as np \n",
        "import seaborn as sns \n",
        "import matplotlib.pyplot as plt\n",
        "# !pip install pyspark\n",
        "from pyspark.sql import SparkSession"
      ],
      "execution_count": 2,
      "outputs": []
    },
    {
      "cell_type": "code",
      "metadata": {
        "id": "lw3wCEBSuiVo"
      },
      "source": [
        "spark = (\n",
        "    SparkSession.builder.appName(\"Car Price Prediction\").getOrCreate()\n",
        ")"
      ],
      "execution_count": 3,
      "outputs": []
    },
    {
      "cell_type": "code",
      "metadata": {
        "id": "JZ7NX5QWu1nY"
      },
      "source": [
        "car_price = (\n",
        "    spark.read.format(\"csv\")\n",
        "    .option(\"header\",  True)\n",
        "    .load(\"CarPrice_Assignment.csv\")\n",
        ")"
      ],
      "execution_count": 4,
      "outputs": []
    },
    {
      "cell_type": "code",
      "metadata": {
        "colab": {
          "base_uri": "https://localhost:8080/",
          "height": 283
        },
        "id": "S6NJr6-Pvg8C",
        "outputId": "d2157dae-d85b-4d3c-9604-bd5b4e42ecce"
      },
      "source": [
        "car_price.toPandas().head()\n",
        "# sns.pairplot(car_price.toPandas())\n",
        "# plt.show()"
      ],
      "execution_count": 5,
      "outputs": [
        {
          "output_type": "execute_result",
          "data": {
            "text/html": [
              "<div>\n",
              "<style scoped>\n",
              "    .dataframe tbody tr th:only-of-type {\n",
              "        vertical-align: middle;\n",
              "    }\n",
              "\n",
              "    .dataframe tbody tr th {\n",
              "        vertical-align: top;\n",
              "    }\n",
              "\n",
              "    .dataframe thead th {\n",
              "        text-align: right;\n",
              "    }\n",
              "</style>\n",
              "<table border=\"1\" class=\"dataframe\">\n",
              "  <thead>\n",
              "    <tr style=\"text-align: right;\">\n",
              "      <th></th>\n",
              "      <th>car_ID</th>\n",
              "      <th>symboling</th>\n",
              "      <th>CarName</th>\n",
              "      <th>fueltype</th>\n",
              "      <th>aspiration</th>\n",
              "      <th>doornumber</th>\n",
              "      <th>carbody</th>\n",
              "      <th>drivewheel</th>\n",
              "      <th>enginelocation</th>\n",
              "      <th>wheelbase</th>\n",
              "      <th>carlength</th>\n",
              "      <th>carwidth</th>\n",
              "      <th>carheight</th>\n",
              "      <th>curbweight</th>\n",
              "      <th>enginetype</th>\n",
              "      <th>cylindernumber</th>\n",
              "      <th>enginesize</th>\n",
              "      <th>fuelsystem</th>\n",
              "      <th>boreratio</th>\n",
              "      <th>stroke</th>\n",
              "      <th>compressionratio</th>\n",
              "      <th>horsepower</th>\n",
              "      <th>peakrpm</th>\n",
              "      <th>citympg</th>\n",
              "      <th>highwaympg</th>\n",
              "      <th>price</th>\n",
              "    </tr>\n",
              "  </thead>\n",
              "  <tbody>\n",
              "    <tr>\n",
              "      <th>0</th>\n",
              "      <td>1</td>\n",
              "      <td>3</td>\n",
              "      <td>alfa-romero giulia</td>\n",
              "      <td>gas</td>\n",
              "      <td>std</td>\n",
              "      <td>two</td>\n",
              "      <td>convertible</td>\n",
              "      <td>rwd</td>\n",
              "      <td>front</td>\n",
              "      <td>88.6</td>\n",
              "      <td>168.8</td>\n",
              "      <td>64.1</td>\n",
              "      <td>48.8</td>\n",
              "      <td>2548</td>\n",
              "      <td>dohc</td>\n",
              "      <td>four</td>\n",
              "      <td>130</td>\n",
              "      <td>mpfi</td>\n",
              "      <td>3.47</td>\n",
              "      <td>2.68</td>\n",
              "      <td>9</td>\n",
              "      <td>111</td>\n",
              "      <td>5000</td>\n",
              "      <td>21</td>\n",
              "      <td>27</td>\n",
              "      <td>13495</td>\n",
              "    </tr>\n",
              "    <tr>\n",
              "      <th>1</th>\n",
              "      <td>2</td>\n",
              "      <td>3</td>\n",
              "      <td>alfa-romero stelvio</td>\n",
              "      <td>gas</td>\n",
              "      <td>std</td>\n",
              "      <td>two</td>\n",
              "      <td>convertible</td>\n",
              "      <td>rwd</td>\n",
              "      <td>front</td>\n",
              "      <td>88.6</td>\n",
              "      <td>168.8</td>\n",
              "      <td>64.1</td>\n",
              "      <td>48.8</td>\n",
              "      <td>2548</td>\n",
              "      <td>dohc</td>\n",
              "      <td>four</td>\n",
              "      <td>130</td>\n",
              "      <td>mpfi</td>\n",
              "      <td>3.47</td>\n",
              "      <td>2.68</td>\n",
              "      <td>9</td>\n",
              "      <td>111</td>\n",
              "      <td>5000</td>\n",
              "      <td>21</td>\n",
              "      <td>27</td>\n",
              "      <td>16500</td>\n",
              "    </tr>\n",
              "    <tr>\n",
              "      <th>2</th>\n",
              "      <td>3</td>\n",
              "      <td>1</td>\n",
              "      <td>alfa-romero Quadrifoglio</td>\n",
              "      <td>gas</td>\n",
              "      <td>std</td>\n",
              "      <td>two</td>\n",
              "      <td>hatchback</td>\n",
              "      <td>rwd</td>\n",
              "      <td>front</td>\n",
              "      <td>94.5</td>\n",
              "      <td>171.2</td>\n",
              "      <td>65.5</td>\n",
              "      <td>52.4</td>\n",
              "      <td>2823</td>\n",
              "      <td>ohcv</td>\n",
              "      <td>six</td>\n",
              "      <td>152</td>\n",
              "      <td>mpfi</td>\n",
              "      <td>2.68</td>\n",
              "      <td>3.47</td>\n",
              "      <td>9</td>\n",
              "      <td>154</td>\n",
              "      <td>5000</td>\n",
              "      <td>19</td>\n",
              "      <td>26</td>\n",
              "      <td>16500</td>\n",
              "    </tr>\n",
              "    <tr>\n",
              "      <th>3</th>\n",
              "      <td>4</td>\n",
              "      <td>2</td>\n",
              "      <td>audi 100 ls</td>\n",
              "      <td>gas</td>\n",
              "      <td>std</td>\n",
              "      <td>four</td>\n",
              "      <td>sedan</td>\n",
              "      <td>fwd</td>\n",
              "      <td>front</td>\n",
              "      <td>99.8</td>\n",
              "      <td>176.6</td>\n",
              "      <td>66.2</td>\n",
              "      <td>54.3</td>\n",
              "      <td>2337</td>\n",
              "      <td>ohc</td>\n",
              "      <td>four</td>\n",
              "      <td>109</td>\n",
              "      <td>mpfi</td>\n",
              "      <td>3.19</td>\n",
              "      <td>3.4</td>\n",
              "      <td>10</td>\n",
              "      <td>102</td>\n",
              "      <td>5500</td>\n",
              "      <td>24</td>\n",
              "      <td>30</td>\n",
              "      <td>13950</td>\n",
              "    </tr>\n",
              "    <tr>\n",
              "      <th>4</th>\n",
              "      <td>5</td>\n",
              "      <td>2</td>\n",
              "      <td>audi 100ls</td>\n",
              "      <td>gas</td>\n",
              "      <td>std</td>\n",
              "      <td>four</td>\n",
              "      <td>sedan</td>\n",
              "      <td>4wd</td>\n",
              "      <td>front</td>\n",
              "      <td>99.4</td>\n",
              "      <td>176.6</td>\n",
              "      <td>66.4</td>\n",
              "      <td>54.3</td>\n",
              "      <td>2824</td>\n",
              "      <td>ohc</td>\n",
              "      <td>five</td>\n",
              "      <td>136</td>\n",
              "      <td>mpfi</td>\n",
              "      <td>3.19</td>\n",
              "      <td>3.4</td>\n",
              "      <td>8</td>\n",
              "      <td>115</td>\n",
              "      <td>5500</td>\n",
              "      <td>18</td>\n",
              "      <td>22</td>\n",
              "      <td>17450</td>\n",
              "    </tr>\n",
              "  </tbody>\n",
              "</table>\n",
              "</div>"
            ],
            "text/plain": [
              "  car_ID symboling                   CarName  ... citympg highwaympg  price\n",
              "0      1         3        alfa-romero giulia  ...      21         27  13495\n",
              "1      2         3       alfa-romero stelvio  ...      21         27  16500\n",
              "2      3         1  alfa-romero Quadrifoglio  ...      19         26  16500\n",
              "3      4         2               audi 100 ls  ...      24         30  13950\n",
              "4      5         2                audi 100ls  ...      18         22  17450\n",
              "\n",
              "[5 rows x 26 columns]"
            ]
          },
          "metadata": {
            "tags": []
          },
          "execution_count": 5
        }
      ]
    },
    {
      "cell_type": "code",
      "metadata": {
        "colab": {
          "base_uri": "https://localhost:8080/"
        },
        "id": "BMuFSYp_v5iE",
        "outputId": "b6235c98-bec8-469f-894d-a3d26b0d2cce"
      },
      "source": [
        "car_price.printSchema()"
      ],
      "execution_count": 6,
      "outputs": [
        {
          "output_type": "stream",
          "text": [
            "root\n",
            " |-- car_ID: string (nullable = true)\n",
            " |-- symboling: string (nullable = true)\n",
            " |-- CarName: string (nullable = true)\n",
            " |-- fueltype: string (nullable = true)\n",
            " |-- aspiration: string (nullable = true)\n",
            " |-- doornumber: string (nullable = true)\n",
            " |-- carbody: string (nullable = true)\n",
            " |-- drivewheel: string (nullable = true)\n",
            " |-- enginelocation: string (nullable = true)\n",
            " |-- wheelbase: string (nullable = true)\n",
            " |-- carlength: string (nullable = true)\n",
            " |-- carwidth: string (nullable = true)\n",
            " |-- carheight: string (nullable = true)\n",
            " |-- curbweight: string (nullable = true)\n",
            " |-- enginetype: string (nullable = true)\n",
            " |-- cylindernumber: string (nullable = true)\n",
            " |-- enginesize: string (nullable = true)\n",
            " |-- fuelsystem: string (nullable = true)\n",
            " |-- boreratio: string (nullable = true)\n",
            " |-- stroke: string (nullable = true)\n",
            " |-- compressionratio: string (nullable = true)\n",
            " |-- horsepower: string (nullable = true)\n",
            " |-- peakrpm: string (nullable = true)\n",
            " |-- citympg: string (nullable = true)\n",
            " |-- highwaympg: string (nullable = true)\n",
            " |-- price: string (nullable = true)\n",
            "\n"
          ],
          "name": "stdout"
        }
      ]
    },
    {
      "cell_type": "code",
      "metadata": {
        "id": "ZbyxljD2wX2r"
      },
      "source": [
        "numeric_columns = [\"wheelbase\",\t\"carlength\",\t\"carwidth\",\t\"carheight\",\t\"curbweight\",\t\n",
        "                  \t\"enginesize\",\t\"boreratio\",\t\"stroke\",\t\"compressionratio\",\t\"horsepower\",\t\"peakrpm\",\t\"citympg\",\t\"highwaympg\",\"price\"]\n",
        "      "
      ],
      "execution_count": 7,
      "outputs": []
    },
    {
      "cell_type": "code",
      "metadata": {
        "id": "elhkLfkpxA_x"
      },
      "source": [
        "from pyspark.sql.functions import col\n",
        "numeric_feature = car_price.select([col(c).cast(\"float\") for c in numeric_columns ])"
      ],
      "execution_count": 8,
      "outputs": []
    },
    {
      "cell_type": "code",
      "metadata": {
        "colab": {
          "base_uri": "https://localhost:8080/"
        },
        "id": "ks8fhgYRyGLw",
        "outputId": "80164685-76bf-43a5-81bd-ce04a9841b31"
      },
      "source": [
        "features = {}\n",
        "for i in numeric_columns:\n",
        "  features[i] = numeric_feature.stat.corr(\"price\", i)\n",
        "  print( \"Correlation to MV for \",i,numeric_feature.stat.corr(\"price\", i))\n"
      ],
      "execution_count": 9,
      "outputs": [
        {
          "output_type": "stream",
          "text": [
            "Correlation to MV for  wheelbase 0.577815609013954\n",
            "Correlation to MV for  carlength 0.6829200061793368\n",
            "Correlation to MV for  carwidth 0.7593252732789826\n",
            "Correlation to MV for  carheight 0.11933627096290873\n",
            "Correlation to MV for  curbweight 0.8353048796203731\n",
            "Correlation to MV for  enginesize 0.8741448022848783\n",
            "Correlation to MV for  boreratio 0.5531732639743967\n",
            "Correlation to MV for  stroke 0.07944309329818429\n",
            "Correlation to MV for  compressionratio 0.06798351616221464\n",
            "Correlation to MV for  horsepower 0.8081388231007026\n",
            "Correlation to MV for  peakrpm -0.0852671497816066\n",
            "Correlation to MV for  citympg -0.6857513366309157\n",
            "Correlation to MV for  highwaympg -0.6975990921640883\n",
            "Correlation to MV for  price 1.0\n"
          ],
          "name": "stdout"
        }
      ]
    },
    {
      "cell_type": "code",
      "metadata": {
        "colab": {
          "base_uri": "https://localhost:8080/"
        },
        "id": "PoOYd9sjZ3Rr",
        "outputId": "5dc97e6e-d522-4c5d-c57e-4690e7fc0bf0"
      },
      "source": [
        "from pyspark.ml.feature import VectorAssembler\n",
        "numeric_columns = [\"wheelbase\",\t\"carlength\",\t\"carwidth\",\t\"carheight\",\t\"curbweight\",\t\n",
        "                  \t             \"enginesize\",\t\"boreratio\",\t\"stroke\",\t\"compressionratio\",\t\"horsepower\",\t\n",
        "                                 \"peakrpm\",\t\"citympg\",\t\"highwaympg\"]\n",
        "      \n",
        "vectorAssembler = VectorAssembler(inputCols = numeric_columns, outputCol = 'features')\n",
        "car_price = vectorAssembler.transform(numeric_feature)\n",
        "car_price = car_price.select(['features', 'price'])\n",
        "\"Visualization of data on Tableau, It's not nomarlize data, you must to transform it will be normalize\"\n",
        "\"Before applying for model\"\n",
        "from pyspark.ml.feature import Normalizer\n",
        "nomalizer = Normalizer(inputCol = \"features\", outputCol = \"normFeatures\", p = 1.0)\n",
        "nomalizer_data = nomalizer.transform(car_price)\n",
        "nomalizer_data"
      ],
      "execution_count": 32,
      "outputs": [
        {
          "output_type": "execute_result",
          "data": {
            "text/plain": [
              "DataFrame[features: vector, price: float, normFeatures: vector]"
            ]
          },
          "metadata": {
            "tags": []
          },
          "execution_count": 32
        }
      ]
    },
    {
      "cell_type": "code",
      "metadata": {
        "id": "pxowP7u3fjNn"
      },
      "source": [
        "# nomalizer_data.show()\n",
        "splits = nomalizer_data.randomSplit([0.8, 0.2])\n",
        "train_df = splits[0]\n",
        "test_df = splits[1]"
      ],
      "execution_count": 35,
      "outputs": []
    },
    {
      "cell_type": "code",
      "metadata": {
        "id": "r2_bbBl2Bour"
      },
      "source": [
        "# I would suggest if you are concerned about the value to do some search over the space of values for regParam, \n",
        "# using a held-out validation set L2\n",
        "\n",
        "# Linear regression with combined L1 and L2 priors as regularizer.\n",
        "#  elasticNetParam corresponds to α and regParam corresponds to λ.\n",
        "\n",
        "# PySpark's Logistic regression accepts an elasticNetParam parameter. \n",
        "# If I set this parameter to let's say 0.2, what does it mean? Does it mean 0.2 of l1 and0.8 of l2 or is it the other way around\n",
        "from pyspark.ml.regression import LinearRegression\n",
        "lr = LinearRegression(featuresCol = \"features\", labelCol = \"price\", \n",
        "                      maxIter = 100, regParam =0.3, elasticNetParam  = 0.8)\n",
        "lr_model = lr.fit(train_df)"
      ],
      "execution_count": 150,
      "outputs": []
    },
    {
      "cell_type": "code",
      "metadata": {
        "colab": {
          "base_uri": "https://localhost:8080/"
        },
        "id": "HgODs-5CDVzX",
        "outputId": "12fc2b5b-cb78-4462-bc3c-cbae02b46a2a"
      },
      "source": [
        "print(\"Coefficients: \"+ str(lr_model.coefficients))\n",
        "print(\"Intercept: \"+ str(lr_model.intercept))"
      ],
      "execution_count": 148,
      "outputs": [
        {
          "output_type": "stream",
          "text": [
            "Coefficients: [105.29476712696139,-143.19603422958625,834.3868690453648,278.812809458785,1.8394111604242793,110.1338654165954,-222.33395442753488,-2999.4988596810986,255.93825638908226,39.16020678681065,2.862411069369122,-216.84900379700176,151.3154403980206]\n",
            "Intercept: -71031.64094107386\n"
          ],
          "name": "stdout"
        }
      ]
    },
    {
      "cell_type": "code",
      "metadata": {
        "colab": {
          "base_uri": "https://localhost:8080/"
        },
        "id": "wknMUdHCDgZH",
        "outputId": "5e468afa-61b1-41b3-a9b0-8194b55b6ffd"
      },
      "source": [
        "trainingSummary = lr_model.summary\n",
        "print(\"RMSE: %f\" % trainingSummary.rootMeanSquaredError)\n",
        "print(\"r2: %f\" % trainingSummary.r2)"
      ],
      "execution_count": 149,
      "outputs": [
        {
          "output_type": "stream",
          "text": [
            "RMSE: 3046.115212\n",
            "r2: 0.856332\n"
          ],
          "name": "stdout"
        }
      ]
    },
    {
      "cell_type": "code",
      "metadata": {
        "colab": {
          "base_uri": "https://localhost:8080/"
        },
        "id": "l7QlFa_1DkhW",
        "outputId": "1c08eb64-0794-40fb-a22d-f67011f38f1a"
      },
      "source": [
        "test_result = lr_model.evaluate(test_df)\n",
        "print(\"Root Mean Squared Error (RMSE) on test data = %g\" % test_result.rootMeanSquaredError)\n",
        "#  3586.61"
      ],
      "execution_count": 83,
      "outputs": [
        {
          "output_type": "stream",
          "text": [
            "Root Mean Squared Error (RMSE) on test data = 3594.76\n"
          ],
          "name": "stdout"
        }
      ]
    },
    {
      "cell_type": "code",
      "metadata": {
        "colab": {
          "base_uri": "https://localhost:8080/"
        },
        "id": "kOh8E2H1LYXF",
        "outputId": "86f49dec-1c66-4d9b-a92a-bda50b98ce59"
      },
      "source": [
        "print(\"numIterations: %d\" % trainingSummary.totalIterations)\n",
        "print(\"objectiveHistory: %s\" % str(trainingSummary.objectiveHistory))\n",
        "y = trainingSummary.residuals.toPandas()\n"
      ],
      "execution_count": 84,
      "outputs": [
        {
          "output_type": "stream",
          "text": [
            "numIterations: 100\n",
            "objectiveHistory: [0.5, 0.3947630858795445, 0.18416181691035927, 0.10713692702937844, 0.10264058590405473, 0.07964394517745466, 0.07496116786301371, 0.07431182163470845, 0.07262894617916342, 0.07229438329129913, 0.07189868228339404, 0.07167290537982474, 0.07162558093001044, 0.07123013575658473, 0.07112341742182032, 0.07072922996473383, 0.0705718707534808, 0.07036103591571104, 0.0701559364419395, 0.06999924915983545, 0.0699337920313842, 0.06987211210466923, 0.06984191246747319, 0.06981238011284206, 0.06979511437291547, 0.06977414777212985, 0.06976518830241436, 0.06975965461480269, 0.06972404992315957, 0.06970035555309698, 0.0696825154600035, 0.0696379520675414, 0.06960570403496384, 0.06949588425465221, 0.06895144995486073, 0.06894098515735474, 0.06891920335017473, 0.06890987989787808, 0.06890730734981562, 0.06888989658302201, 0.06887828229619022, 0.06886736480876297, 0.068852372679922, 0.06884416400571745, 0.06883955742228615, 0.06882896752420654, 0.06882532117046798, 0.06881790236626144, 0.06881461202902656, 0.06880842796494771, 0.06880459167173396, 0.06880121428473275, 0.06879665883024176, 0.06879325917854807, 0.06878714357033687, 0.06878537870595913, 0.06878140534023482, 0.06877709194114996, 0.06877179916876675, 0.06876702982005051, 0.06876365601042615, 0.06874984247515667, 0.0687479366071446, 0.0687420490887263, 0.06872284125779739, 0.06872191610702516, 0.0687200833824894, 0.06871676385826311, 0.06871368487461371, 0.06871286029402703, 0.06871183726567563, 0.06871091187220478, 0.0687100633425588, 0.06870970851160445, 0.06870905386576555, 0.06870884919105809, 0.06870825172944965, 0.0687080811742918, 0.06870797177696907, 0.068707171450058, 0.0687066947634802, 0.06870618959448788, 0.06870601484804638, 0.06870499685431886, 0.06870395804498788, 0.06870348507082148, 0.06870333519675816, 0.06870311997443648, 0.06870304092861693, 0.06870296937999723, 0.06870293273494109, 0.06870288923207102, 0.06870286339857849, 0.06870281732510398, 0.06870280279437957, 0.06870272825026232, 0.06870268391482938, 0.06870264371536751, 0.06870258069059804, 0.06870250634588555, 0.0687024979727506]\n"
          ],
          "name": "stdout"
        }
      ]
    },
    {
      "cell_type": "code",
      "metadata": {
        "colab": {
          "base_uri": "https://localhost:8080/",
          "height": 297
        },
        "id": "7pV3e54qLdGT",
        "outputId": "1b95814d-eb8c-4704-d3cf-e7a7a0b33542"
      },
      "source": [
        "x = [i for i in range(10)]\n",
        "y = trainingSummary.objectiveHistory\n",
        "loss = pd.DataFrame([x, y]).T\n",
        "loss.columns = [\"interation\", \"Loss_function\"]\n",
        "sns.lineplot(x = \"interation\", y = \"Loss_function\", data = loss)"
      ],
      "execution_count": 85,
      "outputs": [
        {
          "output_type": "execute_result",
          "data": {
            "text/plain": [
              "<matplotlib.axes._subplots.AxesSubplot at 0x7eff62cedc90>"
            ]
          },
          "metadata": {
            "tags": []
          },
          "execution_count": 85
        },
        {
          "output_type": "display_data",
          "data": {
            "image/png": "[encoded data removed]",
            "text/plain": [
              "<Figure size 432x288 with 1 Axes>"
            ]
          },
          "metadata": {
            "tags": [],
            "needs_background": "light"
          }
        }
      ]
    },
    {
      "cell_type": "code",
      "metadata": {
        "id": "gsJU2aiMOA66"
      },
      "source": [
        "import pandas as pd\n",
        "import numpy as np\n",
        "from matplotlib import pyplot as plt \n",
        "import seaborn as sns\n",
        "from sklearn.preprocessing import LabelEncoder, StandardScaler\n",
        "from sklearn.model_selection import train_test_split\n",
        "from sklearn.linear_model import LinearRegression\n",
        "from sklearn import metrics\n",
        "from sklearn import ensemble\n",
        "from sklearn.linear_model import Lasso,Ridge"
      ],
      "execution_count": 86,
      "outputs": []
    },
    {
      "cell_type": "code",
      "metadata": {
        "id": "KJ2u1AUfdI3Z"
      },
      "source": [
        "from pyspark.sql.functions import col\n",
        "data = numeric_feature.toPandas()\n",
        "# data.iloc[:,-1]\n",
        "\n",
        "x_train, x_test, y_train, y_test = train_test_split(data.iloc[:,0:-1], data.iloc[:,-1], test_size=0.2 )"
      ],
      "execution_count": 118,
      "outputs": []
    },
    {
      "cell_type": "code",
      "metadata": {
        "id": "RBsF_-HYdOsL"
      },
      "source": [
        "from sklearn.preprocessing import Normalizer\n",
        "nomalizer = Normalizer()\n",
        "x_train_minmax = nomalizer.fit_transform(x_train)\n",
        "x_test_minmax = nomalizer.fit_transform(x_test)"
      ],
      "execution_count": 123,
      "outputs": []
    },
    {
      "cell_type": "code",
      "metadata": {
        "colab": {
          "base_uri": "https://localhost:8080/"
        },
        "id": "opsy16upd9Xx",
        "outputId": "a70aac92-85e9-466e-f995-46c67b62ae7f"
      },
      "source": [
        "\n",
        "# Bulding and fitting the Linear Regression model\n",
        "linearModel = LinearRegression()\n",
        "linearModel.fit(x_train, y_train)\n",
        "  \n",
        "# Evaluating the Linear Regression model\n",
        "print(linearModel.score(x_test, y_test))"
      ],
      "execution_count": 125,
      "outputs": [
        {
          "output_type": "stream",
          "text": [
            "0.7279512881916474\n"
          ],
          "name": "stdout"
        }
      ]
    },
    {
      "cell_type": "code",
      "metadata": {
        "colab": {
          "base_uri": "https://localhost:8080/"
        },
        "id": "zZMqFQS9gZWD",
        "outputId": "c2552b8d-426d-42fa-e737-08ed9021e338"
      },
      "source": [
        "rr100 = Ridge(alpha=0.2) #  comparison with alpha value\n",
        "rr100.fit(x_train, y_train)\n",
        "Ridge_test_score100 = rr100.score(x_test, y_test)\n",
        "Ridge_test_score100"
      ],
      "execution_count": 131,
      "outputs": [
        {
          "output_type": "execute_result",
          "data": {
            "text/plain": [
              "0.7278375506808094"
            ]
          },
          "metadata": {
            "tags": []
          },
          "execution_count": 131
        }
      ]
    },
    {
      "cell_type": "code",
      "metadata": {
        "colab": {
          "base_uri": "https://localhost:8080/"
        },
        "id": "9Y2RTHRihXs0",
        "outputId": "9341a25f-0b63-482f-b956-ba533943f1f8"
      },
      "source": [
        "lasso001 = Lasso(alpha=0.03, max_iter=10e5)\n",
        "lasso001.fit(x_train,y_train)\n",
        "coeff_used = np.sum(lasso001.coef_!=0)\n",
        "\n",
        "print(coeff_used)"
      ],
      "execution_count": 151,
      "outputs": [
        {
          "output_type": "stream",
          "text": [
            "13\n"
          ],
          "name": "stdout"
        }
      ]
    },
    {
      "cell_type": "code",
      "metadata": {
        "id": "CLD5CdBnh37P"
      },
      "source": [
        ""
      ],
      "execution_count": 139,
      "outputs": []
    },
    {
      "cell_type": "code",
      "metadata": {
        "id": "Tr98w-qrjO_h"
      },
      "source": [
        ""
      ],
      "execution_count": null,
      "outputs": []
    }
  ]
}