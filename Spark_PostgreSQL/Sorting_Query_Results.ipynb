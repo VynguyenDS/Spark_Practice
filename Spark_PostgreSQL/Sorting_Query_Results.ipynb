{
 "cells": [
  {
   "cell_type": "code",
   "execution_count": 1,
   "metadata": {},
   "outputs": [],
   "source": [
    "from pyspark.sql import SparkSession\n"
   ]
  },
  {
   "cell_type": "code",
   "execution_count": 2,
   "metadata": {},
   "outputs": [],
   "source": [
    "spark = (\n",
    "    SparkSession.builder\n",
    "    .appName(\"Sorting_Query_Result\")\n",
    "    .config(\"spark.jars\", \"postgresql-42.2.20.jar\")\n",
    "    .getOrCreate()\n",
    ")\n",
    "emp_data = (\n",
    "    spark.read.format(\"jdbc\")\n",
    "    .option(\"url\", \"jdbc:postgresql://localhost:5432/sqla\")\n",
    "    .option(\"dbtable\", \"emp\")\n",
    "    .option(\"user\", \"postgres\")\n",
    "    .option(\"password\", \"admin123\")\n",
    "    .option(\"driver\", \"org.postgresql.Driver\").load()\n",
    ")"
   ]
  },
  {
   "cell_type": "code",
   "execution_count": 3,
   "metadata": {},
   "outputs": [],
   "source": [
    "emp_data.createOrReplaceTempView(\"emp\")"
   ]
  },
  {
   "cell_type": "code",
   "execution_count": 6,
   "metadata": {},
   "outputs": [
    {
     "name": "stdout",
     "output_type": "stream",
     "text": [
      "+--------+---------+-------+\n",
      "|   ename|      job|    sal|\n",
      "+--------+---------+-------+\n",
      "|Jonathan|   Editor|   null|\n",
      "|   SMITH|    CLERK| 880.00|\n",
      "|   JAMES|    CLERK| 950.00|\n",
      "|   ADAMS|    CLERK|1210.00|\n",
      "|    WARD| SALESMAN|1250.00|\n",
      "|  MARTIN| SALESMAN|1250.00|\n",
      "|  MILLER|    CLERK|1300.00|\n",
      "|  TURNER| SALESMAN|1500.00|\n",
      "|   ALLEN| SALESMAN|1600.00|\n",
      "|   CLARK|  MANAGER|2450.00|\n",
      "|   BLAKE|  MANAGER|2850.00|\n",
      "|   JONES|  MANAGER|3272.50|\n",
      "|   SCOTT|  ANALYST|3300.00|\n",
      "|    FORD|  ANALYST|3300.00|\n",
      "|    KING|PRESIDENT|5000.00|\n",
      "+--------+---------+-------+\n",
      "\n"
     ]
    }
   ],
   "source": [
    "# You want to display the names, job, and salaries of employees in department 10 \n",
    "# in order based on their salary (from lowest to highest)\n",
    "spark.sql(\n",
    "    \"\"\"\n",
    "    select ename, job, sal \n",
    "    from emp\n",
    "    \n",
    "    order by sal asc\n",
    "    \"\"\"\n",
    ").show()"
   ]
  },
  {
   "cell_type": "code",
   "execution_count": 8,
   "metadata": {},
   "outputs": [
    {
     "name": "stdout",
     "output_type": "stream",
     "text": [
      "+-----+------+-------+--------+---------+\n",
      "|empno|deptno|    sal|   ename|      job|\n",
      "+-----+------+-------+--------+---------+\n",
      "|    1|  null|   null|Jonathan|   Editor|\n",
      "| 7839|    10|5000.00|    KING|PRESIDENT|\n",
      "| 7782|    10|2450.00|   CLARK|  MANAGER|\n",
      "| 7934|    10|1300.00|  MILLER|    CLERK|\n",
      "| 7788|    20|3300.00|   SCOTT|  ANALYST|\n",
      "| 7902|    20|3300.00|    FORD|  ANALYST|\n",
      "| 7566|    20|3272.50|   JONES|  MANAGER|\n",
      "| 7876|    20|1210.00|   ADAMS|    CLERK|\n",
      "| 7369|    20| 880.00|   SMITH|    CLERK|\n",
      "| 7698|    30|2850.00|   BLAKE|  MANAGER|\n",
      "| 7499|    30|1600.00|   ALLEN| SALESMAN|\n",
      "| 7844|    30|1500.00|  TURNER| SALESMAN|\n",
      "| 7521|    30|1250.00|    WARD| SALESMAN|\n",
      "| 7654|    30|1250.00|  MARTIN| SALESMAN|\n",
      "| 7900|    30| 950.00|   JAMES|    CLERK|\n",
      "+-----+------+-------+--------+---------+\n",
      "\n"
     ]
    }
   ],
   "source": [
    "# Sorting by Multiple Fields\n",
    "spark.sql(\n",
    "    \"\"\"\n",
    "    select empno, deptno, sal, ename, job\n",
    "    from emp\n",
    "    order by deptno asc, sal desc\n",
    "    \"\"\"\n",
    ").show()"
   ]
  },
  {
   "cell_type": "code",
   "execution_count": 16,
   "metadata": {},
   "outputs": [
    {
     "name": "stdout",
     "output_type": "stream",
     "text": [
      "+-------+------+\n",
      "|  ename|number|\n",
      "+-------+------+\n",
      "| ALLEN |    30|\n",
      "|  WARD |    30|\n",
      "|MARTIN |    30|\n",
      "| BLAKE |    30|\n",
      "| CLARK |    10|\n",
      "|  KING |    10|\n",
      "|TURNER |    30|\n",
      "| JAMES |    30|\n",
      "|MILLER |    10|\n",
      "|   null|  null|\n",
      "| SMITH |    20|\n",
      "| JONES |    20|\n",
      "| SCOTT |    20|\n",
      "| ADAMS |    20|\n",
      "|  FORD |    20|\n",
      "+-------+------+\n",
      "\n"
     ]
    }
   ],
   "source": [
    "v_views = spark.sql(\n",
    "    \"\"\"\n",
    "    select \n",
    "    replace(translate(data, '0123456789', '#'),'#','') as ename,\n",
    "    replace(data, replace(translate(data, '0123456789', '#'),'#',''), '') as number\n",
    "    from(\n",
    "        select ename || ' ' || deptno as data \n",
    "        from emp\n",
    "    ) x \n",
    "    \"\"\"\n",
    ").show()\n"
   ]
  },
  {
   "cell_type": "code",
   "execution_count": 25,
   "metadata": {},
   "outputs": [
    {
     "name": "stdout",
     "output_type": "stream",
     "text": [
      "+--------+-------+---------------------------------------------------------------+\n",
      "|   ename|    sal|coalesce(CAST(comm AS DECIMAL(12,2)), CAST(0 AS DECIMAL(12,2)))|\n",
      "+--------+-------+---------------------------------------------------------------+\n",
      "|  TURNER|1500.00|                                                           0.00|\n",
      "|   ALLEN|1600.00|                                                         300.00|\n",
      "|    WARD|1250.00|                                                         500.00|\n",
      "|  MARTIN|1250.00|                                                        1400.00|\n",
      "|   BLAKE|2850.00|                                                           0.00|\n",
      "|   JAMES| 950.00|                                                           0.00|\n",
      "|   CLARK|2450.00|                                                           0.00|\n",
      "|  MILLER|1300.00|                                                           0.00|\n",
      "|Jonathan|   null|                                                           0.00|\n",
      "|   JONES|3272.50|                                                           0.00|\n",
      "|    KING|5000.00|                                                           0.00|\n",
      "|   SMITH| 880.00|                                                           0.00|\n",
      "|   SCOTT|3300.00|                                                           0.00|\n",
      "|   ADAMS|1210.00|                                                           0.00|\n",
      "|    FORD|3300.00|                                                           0.00|\n",
      "+--------+-------+---------------------------------------------------------------+\n",
      "\n"
     ]
    }
   ],
   "source": [
    "# You want to sort results from EMP by COMM, but the field is nullable. \n",
    "# You need a way to specify whether nulls sort last:\n",
    "spark.sql(\n",
    "    \"\"\"\n",
    "\n",
    "    select ename, sal, coalesce(comm,0)\n",
    "    from \n",
    "    (\n",
    "        select ename, sal, comm, \n",
    "        case\n",
    "            when comm is null then 0\n",
    "            when comm is not null then 1\n",
    "            end as checker\n",
    "        from emp\n",
    "        order by checker desc, comm asc\n",
    "        \n",
    "    ) x\n",
    "    \"\"\"\n",
    ").show()"
   ]
  },
  {
   "cell_type": "code",
   "execution_count": 30,
   "metadata": {},
   "outputs": [
    {
     "ename": "ParseException",
     "evalue": "\nmissing ')' at 'order'(line 11, pos 8)\n\n== SQL ==\n\n    select ename, sal, job, comm\n    from \n    (\n        select ename, sal, job, comm,\n        case\n            when comm is null then 0 \n            when comm is not null then 1\n            end as checker\n        from emp\n        order by case when job == 'SALESMAN' then checker asc\n--------^^^\n    ) x\n    \n",
     "output_type": "error",
     "traceback": [
      "\u001b[0;31m---------------------------------------------------------------------------\u001b[0m",
      "\u001b[0;31mParseException\u001b[0m                            Traceback (most recent call last)",
      "\u001b[0;32m<ipython-input-30-baeaf7321c14>\u001b[0m in \u001b[0;36m<module>\u001b[0;34m\u001b[0m\n\u001b[1;32m      2\u001b[0m \u001b[0;31m# You want to sort based on some conditional logic. For example: if JOB is “SALESMAN”\u001b[0m\u001b[0;34m\u001b[0m\u001b[0;34m\u001b[0m\u001b[0;34m\u001b[0m\u001b[0m\n\u001b[1;32m      3\u001b[0m \u001b[0;31m# you want to sort on COMM; otherwise, you want to sort by SAL. You want to return the following result set:\u001b[0m\u001b[0;34m\u001b[0m\u001b[0;34m\u001b[0m\u001b[0;34m\u001b[0m\u001b[0m\n\u001b[0;32m----> 4\u001b[0;31m spark.sql(\n\u001b[0m\u001b[1;32m      5\u001b[0m     \"\"\"\n\u001b[1;32m      6\u001b[0m     \u001b[0mselect\u001b[0m \u001b[0mename\u001b[0m\u001b[0;34m,\u001b[0m \u001b[0msal\u001b[0m\u001b[0;34m,\u001b[0m \u001b[0mjob\u001b[0m\u001b[0;34m,\u001b[0m \u001b[0mcomm\u001b[0m\u001b[0;34m\u001b[0m\u001b[0;34m\u001b[0m\u001b[0m\n",
      "\u001b[0;32m~/.local/lib/python3.8/site-packages/pyspark/sql/session.py\u001b[0m in \u001b[0;36msql\u001b[0;34m(self, sqlQuery)\u001b[0m\n\u001b[1;32m    721\u001b[0m         \u001b[0;34m[\u001b[0m\u001b[0mRow\u001b[0m\u001b[0;34m(\u001b[0m\u001b[0mf1\u001b[0m\u001b[0;34m=\u001b[0m\u001b[0;36m1\u001b[0m\u001b[0;34m,\u001b[0m \u001b[0mf2\u001b[0m\u001b[0;34m=\u001b[0m\u001b[0;34m'row1'\u001b[0m\u001b[0;34m)\u001b[0m\u001b[0;34m,\u001b[0m \u001b[0mRow\u001b[0m\u001b[0;34m(\u001b[0m\u001b[0mf1\u001b[0m\u001b[0;34m=\u001b[0m\u001b[0;36m2\u001b[0m\u001b[0;34m,\u001b[0m \u001b[0mf2\u001b[0m\u001b[0;34m=\u001b[0m\u001b[0;34m'row2'\u001b[0m\u001b[0;34m)\u001b[0m\u001b[0;34m,\u001b[0m \u001b[0mRow\u001b[0m\u001b[0;34m(\u001b[0m\u001b[0mf1\u001b[0m\u001b[0;34m=\u001b[0m\u001b[0;36m3\u001b[0m\u001b[0;34m,\u001b[0m \u001b[0mf2\u001b[0m\u001b[0;34m=\u001b[0m\u001b[0;34m'row3'\u001b[0m\u001b[0;34m)\u001b[0m\u001b[0;34m]\u001b[0m\u001b[0;34m\u001b[0m\u001b[0;34m\u001b[0m\u001b[0m\n\u001b[1;32m    722\u001b[0m         \"\"\"\n\u001b[0;32m--> 723\u001b[0;31m         \u001b[0;32mreturn\u001b[0m \u001b[0mDataFrame\u001b[0m\u001b[0;34m(\u001b[0m\u001b[0mself\u001b[0m\u001b[0;34m.\u001b[0m\u001b[0m_jsparkSession\u001b[0m\u001b[0;34m.\u001b[0m\u001b[0msql\u001b[0m\u001b[0;34m(\u001b[0m\u001b[0msqlQuery\u001b[0m\u001b[0;34m)\u001b[0m\u001b[0;34m,\u001b[0m \u001b[0mself\u001b[0m\u001b[0;34m.\u001b[0m\u001b[0m_wrapped\u001b[0m\u001b[0;34m)\u001b[0m\u001b[0;34m\u001b[0m\u001b[0;34m\u001b[0m\u001b[0m\n\u001b[0m\u001b[1;32m    724\u001b[0m \u001b[0;34m\u001b[0m\u001b[0m\n\u001b[1;32m    725\u001b[0m     \u001b[0;32mdef\u001b[0m \u001b[0mtable\u001b[0m\u001b[0;34m(\u001b[0m\u001b[0mself\u001b[0m\u001b[0;34m,\u001b[0m \u001b[0mtableName\u001b[0m\u001b[0;34m)\u001b[0m\u001b[0;34m:\u001b[0m\u001b[0;34m\u001b[0m\u001b[0;34m\u001b[0m\u001b[0m\n",
      "\u001b[0;32m~/.local/lib/python3.8/site-packages/py4j/java_gateway.py\u001b[0m in \u001b[0;36m__call__\u001b[0;34m(self, *args)\u001b[0m\n\u001b[1;32m   1302\u001b[0m \u001b[0;34m\u001b[0m\u001b[0m\n\u001b[1;32m   1303\u001b[0m         \u001b[0manswer\u001b[0m \u001b[0;34m=\u001b[0m \u001b[0mself\u001b[0m\u001b[0;34m.\u001b[0m\u001b[0mgateway_client\u001b[0m\u001b[0;34m.\u001b[0m\u001b[0msend_command\u001b[0m\u001b[0;34m(\u001b[0m\u001b[0mcommand\u001b[0m\u001b[0;34m)\u001b[0m\u001b[0;34m\u001b[0m\u001b[0;34m\u001b[0m\u001b[0m\n\u001b[0;32m-> 1304\u001b[0;31m         return_value = get_return_value(\n\u001b[0m\u001b[1;32m   1305\u001b[0m             answer, self.gateway_client, self.target_id, self.name)\n\u001b[1;32m   1306\u001b[0m \u001b[0;34m\u001b[0m\u001b[0m\n",
      "\u001b[0;32m~/.local/lib/python3.8/site-packages/pyspark/sql/utils.py\u001b[0m in \u001b[0;36mdeco\u001b[0;34m(*a, **kw)\u001b[0m\n\u001b[1;32m    115\u001b[0m                 \u001b[0;31m# Hide where the exception came from that shows a non-Pythonic\u001b[0m\u001b[0;34m\u001b[0m\u001b[0;34m\u001b[0m\u001b[0;34m\u001b[0m\u001b[0m\n\u001b[1;32m    116\u001b[0m                 \u001b[0;31m# JVM exception message.\u001b[0m\u001b[0;34m\u001b[0m\u001b[0;34m\u001b[0m\u001b[0;34m\u001b[0m\u001b[0m\n\u001b[0;32m--> 117\u001b[0;31m                 \u001b[0;32mraise\u001b[0m \u001b[0mconverted\u001b[0m \u001b[0;32mfrom\u001b[0m \u001b[0;32mNone\u001b[0m\u001b[0;34m\u001b[0m\u001b[0;34m\u001b[0m\u001b[0m\n\u001b[0m\u001b[1;32m    118\u001b[0m             \u001b[0;32melse\u001b[0m\u001b[0;34m:\u001b[0m\u001b[0;34m\u001b[0m\u001b[0;34m\u001b[0m\u001b[0m\n\u001b[1;32m    119\u001b[0m                 \u001b[0;32mraise\u001b[0m\u001b[0;34m\u001b[0m\u001b[0;34m\u001b[0m\u001b[0m\n",
      "\u001b[0;31mParseException\u001b[0m: \nmissing ')' at 'order'(line 11, pos 8)\n\n== SQL ==\n\n    select ename, sal, job, comm\n    from \n    (\n        select ename, sal, job, comm,\n        case\n            when comm is null then 0 \n            when comm is not null then 1\n            end as checker\n        from emp\n        order by case when job == 'SALESMAN' then checker asc\n--------^^^\n    ) x\n    \n"
     ]
    }
   ],
   "source": [
    "# Problem\n",
    "# You want to sort based on some conditional logic. For example: if JOB is “SALESMAN” \n",
    "# you want to sort on COMM; otherwise, you want to sort by SAL. You want to return the following result set:\n",
    "spark.sql(\n",
    "    \"\"\"\n",
    "    select ename, sal, job, comm, \t     case when job = 'SALESMAN' then comm else sal end as ordered\n",
    "    from \n",
    "    (\n",
    "        select ename, sal, job, comm,\n",
    "        case\n",
    "            when comm is null then 0 \n",
    "            when comm is not null then 1\n",
    "            end as checker\n",
    "        from emp\n",
    "        order by case when job == 'SALESMAN' then checker asc\n",
    "    ) x\n",
    "    \"\"\"\n",
    ").show()"
   ]
  },
  {
   "cell_type": "code",
   "execution_count": null,
   "metadata": {},
   "outputs": [],
   "source": []
  }
 ],
 "metadata": {
  "kernelspec": {
   "display_name": "Python 3",
   "language": "python",
   "name": "python3"
  },
  "language_info": {
   "codemirror_mode": {
    "name": "ipython",
    "version": 3
   },
   "file_extension": ".py",
   "mimetype": "text/x-python",
   "name": "python",
   "nbconvert_exporter": "python",
   "pygments_lexer": "ipython3",
   "version": "3.8.5"
  }
 },
 "nbformat": 4,
 "nbformat_minor": 4
}
