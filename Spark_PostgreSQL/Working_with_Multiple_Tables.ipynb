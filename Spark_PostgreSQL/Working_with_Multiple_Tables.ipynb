{
 "cells": [
  {
   "cell_type": "code",
   "execution_count": 1,
   "metadata": {},
   "outputs": [],
   "source": [
    "from pyspark.sql import SparkSession\n"
   ]
  },
  {
   "cell_type": "code",
   "execution_count": 2,
   "metadata": {},
   "outputs": [],
   "source": [
    "spark = (\n",
    "    SparkSession.builder\n",
    "    .appName(\"Working_With_Multiple_Tables\")\n",
    "    .config(\"spark.jars\", \"postgresql-42.2.20.jar\")\n",
    "    .getOrCreate()\n",
    ")"
   ]
  },
  {
   "cell_type": "code",
   "execution_count": 3,
   "metadata": {},
   "outputs": [],
   "source": [
    "# connect emp table in sqla database of PostgreSQl\n",
    "def connect_database_to_read_file(database, table, user, password, name_file):\n",
    "    data = (\n",
    "        spark.read.format(\"jdbc\")\n",
    "        .option(\"url\", \"jdbc:postgresql://localhost:5432/{}\".format(database))\n",
    "        .option(\"dbtable\", table)\n",
    "        .option(\"user\", user)\n",
    "        .option(\"password\", password)\n",
    "        .option(\"driver\", \"org.postgresql.Driver\").load())\n",
    "    return data.createOrReplaceTempView(name_file) \n"
   ]
  },
  {
   "cell_type": "code",
   "execution_count": 4,
   "metadata": {},
   "outputs": [],
   "source": [
    "emp_data = connect_database_to_read_file(\"sqla\", \"emp\", \"postgres\", \"admin123\", \"emp\")\n"
   ]
  },
  {
   "cell_type": "code",
   "execution_count": 5,
   "metadata": {},
   "outputs": [],
   "source": [
    "t1_data = connect_database_to_read_file(\"sqla\", \"t1\", \"postgres\", \"admin123\", \"t1\")"
   ]
  },
  {
   "cell_type": "code",
   "execution_count": 6,
   "metadata": {},
   "outputs": [],
   "source": [
    "dept_data = connect_database_to_read_file(\"sqla\", \"dept\", \"postgres\", \"admin123\", \"dept\")"
   ]
  },
  {
   "cell_type": "code",
   "execution_count": 7,
   "metadata": {},
   "outputs": [
    {
     "name": "stdout",
     "output_type": "stream",
     "text": [
      "+------+----------+--------+\n",
      "|deptno|     dname|     loc|\n",
      "+------+----------+--------+\n",
      "|    10|ACCOUNTING|NEW YORK|\n",
      "|    20|  RESEARCH|  DALLAS|\n",
      "|    30|     SALES| CHICAGO|\n",
      "|    40|OPERATIONS|  BOSTON|\n",
      "+------+----------+--------+\n",
      "\n"
     ]
    }
   ],
   "source": [
    "spark.sql(\n",
    "    \"\"\"\n",
    "    select *\n",
    "    from dept\n",
    "    \"\"\"\n",
    ").show()"
   ]
  },
  {
   "cell_type": "code",
   "execution_count": 8,
   "metadata": {},
   "outputs": [
    {
     "name": "stdout",
     "output_type": "stream",
     "text": [
      "+---------------+------+\n",
      "|ename_and_dname|deptno|\n",
      "+---------------+------+\n",
      "|          CLARK|    10|\n",
      "|           KING|    10|\n",
      "|         MILLER|    10|\n",
      "|     ----------|  null|\n",
      "|     ACCOUNTING|    10|\n",
      "|       RESEARCH|    20|\n",
      "|          SALES|    30|\n",
      "|     OPERATIONS|    40|\n",
      "+---------------+------+\n",
      "\n"
     ]
    }
   ],
   "source": [
    "spark.sql(\n",
    "    \"\"\"\n",
    "    select ename as ename_and_dname, deptno\n",
    "    from emp\n",
    "    where deptno = 10\n",
    "    union all\n",
    "    select '----------', null\n",
    "    from t1\n",
    "    union all \n",
    "    select dname, deptno\n",
    "    from dept\n",
    "    \"\"\"\n",
    ").show()"
   ]
  },
  {
   "cell_type": "code",
   "execution_count": 9,
   "metadata": {},
   "outputs": [
    {
     "name": "stdout",
     "output_type": "stream",
     "text": [
      "+------+\n",
      "|deptno|\n",
      "+------+\n",
      "|  null|\n",
      "|    10|\n",
      "|    30|\n",
      "|    20|\n",
      "|    40|\n",
      "+------+\n",
      "\n"
     ]
    }
   ],
   "source": [
    "# UNION and UNION ALL\n",
    "spark.sql(\n",
    "    \"\"\"\n",
    "    select deptno\n",
    "    from dept\n",
    "    union  \n",
    "    select deptno\n",
    "    from emp\n",
    "    \"\"\"\n",
    ").show()"
   ]
  },
  {
   "cell_type": "code",
   "execution_count": 10,
   "metadata": {},
   "outputs": [
    {
     "name": "stdout",
     "output_type": "stream",
     "text": [
      "+-----+--------+---------+----+----------+-------+-------+------+\n",
      "|empno|   ename|      job| mgr|  hiredate|    sal|   comm|deptno|\n",
      "+-----+--------+---------+----+----------+-------+-------+------+\n",
      "| 7499|   ALLEN| SALESMAN|7698|1981-02-20|1600.00| 300.00|    30|\n",
      "| 7521|    WARD| SALESMAN|7698|1981-02-22|1250.00| 500.00|    30|\n",
      "| 7654|  MARTIN| SALESMAN|7698|1981-09-28|1250.00|1400.00|    30|\n",
      "| 7698|   BLAKE|  MANAGER|7839|1981-05-01|2850.00|   null|    30|\n",
      "| 7782|   CLARK|  MANAGER|7839|1981-06-09|2450.00|   null|    10|\n",
      "| 7839|    KING|PRESIDENT|null|1981-11-17|5000.00|   null|    10|\n",
      "| 7844|  TURNER| SALESMAN|7698|1981-09-08|1500.00|   0.00|    30|\n",
      "| 7900|   JAMES|    CLERK|7698|1981-12-03| 950.00|   null|    30|\n",
      "| 7934|  MILLER|    CLERK|7782|1982-01-23|1300.00|   null|    10|\n",
      "|    1|Jonathan|   Editor|null|      null|   null|   null|  null|\n",
      "| 7369|   SMITH|    CLERK|7902|1980-12-17| 880.00|   null|    20|\n",
      "| 7566|   JONES|  MANAGER|7839|1981-04-02|3272.50|   null|    20|\n",
      "| 7788|   SCOTT|  ANALYST|7566|1982-12-09|3300.00|   null|    20|\n",
      "| 7876|   ADAMS|    CLERK|7788|1983-01-12|1210.00|   null|    20|\n",
      "| 7902|    FORD|  ANALYST|7566|1981-12-03|3300.00|   null|    20|\n",
      "+-----+--------+---------+----+----------+-------+-------+------+\n",
      "\n"
     ]
    }
   ],
   "source": [
    "# Problem\n",
    "# You want to return rows from multiple tables by joining on a known common column or joining on \n",
    "# columns that share common values\n",
    "\n",
    "# For example, you want to display the names of all employees in department 10 along with the location \n",
    "# of each employee’s department, but that data is stored in two separate tables.\n",
    "spark.sql(\n",
    "    \"\"\"\n",
    "    select *\n",
    "    from emp\n",
    "    \"\"\"\n",
    ").show()"
   ]
  },
  {
   "cell_type": "code",
   "execution_count": 11,
   "metadata": {},
   "outputs": [
    {
     "name": "stdout",
     "output_type": "stream",
     "text": [
      "+------+--------+\n",
      "| ename|     loc|\n",
      "+------+--------+\n",
      "| CLARK|NEW YORK|\n",
      "|  KING|NEW YORK|\n",
      "|MILLER|NEW YORK|\n",
      "+------+--------+\n",
      "\n"
     ]
    }
   ],
   "source": [
    "# inner join \n",
    "spark.sql(\n",
    "    \"\"\"\n",
    "    select e.ename, d.loc\n",
    "    from dept as d, emp as e\n",
    "    where e.deptno = 10 and d.deptno = e.deptno \n",
    "    \"\"\"\n",
    ").show()\n",
    "\n",
    "# spark.sql(\n",
    "#     \"\"\"\n",
    "#     select e.ename, d.loc, e.deptno as emp_deptno, d.deptno as dept_detno\n",
    "#     from emp as e, dept as d\n",
    "#     where e.deptno = 10\n",
    "#     \"\"\"\n",
    "# ).show()"
   ]
  },
  {
   "cell_type": "code",
   "execution_count": 12,
   "metadata": {},
   "outputs": [],
   "source": [
    "# Join table EMP to view V using multiple join conditions:\n",
    "data = (\n",
    "        spark.read.format(\"jdbc\")\n",
    "        .option(\"url\", \"jdbc:postgresql://localhost:5432/{}\".format('sqla'))\n",
    "        .option(\"dbtable\", 'emp')\n",
    "        .option(\"user\", 'postgres')\n",
    "        .option(\"password\", 'admin123')\n",
    "        .option(\"driver\", \"org.postgresql.Driver\").load())\n",
    "\n",
    "job_clerk = data.select(\"ename\", \"job\",\"sal\").filter(\"job == 'CLERK'\")\n",
    "job_clerk.createOrReplaceTempView(\"job_clerk\")\n"
   ]
  },
  {
   "cell_type": "code",
   "execution_count": 13,
   "metadata": {},
   "outputs": [
    {
     "name": "stdout",
     "output_type": "stream",
     "text": [
      "+-----+------+-----+-------+------+\n",
      "|empno| ename|  job|    sal|deptno|\n",
      "+-----+------+-----+-------+------+\n",
      "| 7876| ADAMS|CLERK|1210.00|    20|\n",
      "| 7900| JAMES|CLERK| 950.00|    30|\n",
      "| 7369| SMITH|CLERK| 880.00|    20|\n",
      "| 7934|MILLER|CLERK|1300.00|    10|\n",
      "+-----+------+-----+-------+------+\n",
      "\n"
     ]
    }
   ],
   "source": [
    "spark.sql(\n",
    "    \"\"\"\n",
    "    select e.empno, jc.ename, jc.job, jc.sal, e.deptno\n",
    "    from job_clerk as jc, emp as e\n",
    "    where jc.job = e.job and jc.ename = e.ename and jc.sal = e.sal\n",
    "    \n",
    "    \"\"\"\n",
    ").show()"
   ]
  },
  {
   "cell_type": "code",
   "execution_count": 14,
   "metadata": {},
   "outputs": [
    {
     "name": "stdout",
     "output_type": "stream",
     "text": [
      "+------+\n",
      "|deptno|\n",
      "+------+\n",
      "|    40|\n",
      "+------+\n",
      "\n"
     ]
    }
   ],
   "source": [
    "# Retrieving Values from One Table That Do Not Exist in Another\n",
    "# Problem\n",
    "# You want to find which departments (if any) in table DEPT do not exist in table EMP. \n",
    "# In the example data, DEPTNO 40 from table DEPT does not exist in table EMP\n",
    "spark.sql(\n",
    "    \"\"\"\n",
    "    select deptno\n",
    "    from dept\n",
    "    except\n",
    "    select deptno\n",
    "    from emp\n",
    "    \"\"\"\n",
    ").show()"
   ]
  },
  {
   "cell_type": "code",
   "execution_count": 15,
   "metadata": {},
   "outputs": [
    {
     "name": "stdout",
     "output_type": "stream",
     "text": [
      "+------+----------+------+------+\n",
      "|deptno|     dname|   loc|deptno|\n",
      "+------+----------+------+------+\n",
      "|    40|OPERATIONS|BOSTON|  null|\n",
      "+------+----------+------+------+\n",
      "\n"
     ]
    }
   ],
   "source": [
    "# Problem\n",
    "# You want to find rows that are in one table that do not have a match in another table, \n",
    "# for two tables that have common keys.\n",
    "# from\n",
    "# on\n",
    "# outer \n",
    "# where \n",
    "spark.sql(\n",
    "    \"\"\"\n",
    "    select d.*, e.deptno\n",
    "    from dept d left outer join emp e\n",
    "    on (d.deptno = e.deptno)\n",
    "    where e.deptno is null\n",
    "    \"\"\"\n",
    ").show()"
   ]
  },
  {
   "cell_type": "code",
   "execution_count": 16,
   "metadata": {},
   "outputs": [
    {
     "name": "stdout",
     "output_type": "stream",
     "text": [
      "+-----+----------+----+\n",
      "|empno|  received|type|\n",
      "+-----+----------+----+\n",
      "| 7934|2005-03-17|   1|\n",
      "| 7934|2005-02-15|   2|\n",
      "| 7839|2005-02-15|   3|\n",
      "| 7782|2005-02-15|   1|\n",
      "+-----+----------+----+\n",
      "\n"
     ]
    }
   ],
   "source": [
    "# Problem\n",
    "# you want to return all employees, the location of the department in which they work, \n",
    "# and the date they received a bonus.\n",
    "emp_bonus = connect_database_to_read_file(\"sqla\", \"emp_bonus\", \"postgres\", \"admin123\", \"emp_bonus\")\n",
    "spark.sql(\n",
    "    \"\"\"\n",
    "    select *\n",
    "    from emp_bonus\n",
    "    \n",
    "    \"\"\"\n",
    ").show()"
   ]
  },
  {
   "cell_type": "code",
   "execution_count": 17,
   "metadata": {},
   "outputs": [
    {
     "name": "stdout",
     "output_type": "stream",
     "text": [
      "+------+--------+----------+\n",
      "| ename|     loc|  received|\n",
      "+------+--------+----------+\n",
      "|TURNER| CHICAGO|      null|\n",
      "| ALLEN| CHICAGO|      null|\n",
      "|MARTIN| CHICAGO|      null|\n",
      "| JAMES| CHICAGO|      null|\n",
      "| BLAKE| CHICAGO|      null|\n",
      "|  WARD| CHICAGO|      null|\n",
      "| JONES|  DALLAS|      null|\n",
      "|  FORD|  DALLAS|      null|\n",
      "| ADAMS|  DALLAS|      null|\n",
      "| SMITH|  DALLAS|      null|\n",
      "| SCOTT|  DALLAS|      null|\n",
      "|  KING|NEW YORK|2005-02-15|\n",
      "|MILLER|NEW YORK|2005-03-17|\n",
      "|MILLER|NEW YORK|2005-02-15|\n",
      "| CLARK|NEW YORK|2005-02-15|\n",
      "+------+--------+----------+\n",
      "\n"
     ]
    }
   ],
   "source": [
    "spark.sql(\n",
    "    \"\"\"\n",
    "    select e.ename, d.loc, eb.received\n",
    "    from emp e join dept d\n",
    "    on (e.deptno = d.deptno)\n",
    "    left join emp_bonus eb\n",
    "    on(e.empno = eb.empno)\n",
    "    order by 2\n",
    "    \"\"\"\n",
    ").show()"
   ]
  },
  {
   "cell_type": "code",
   "execution_count": 18,
   "metadata": {},
   "outputs": [],
   "source": [
    "# Join table EMP to view V using multiple join conditions:\n",
    "data = (\n",
    "        spark.read.format(\"jdbc\")\n",
    "        .option(\"url\", \"jdbc:postgresql://localhost:5432/{}\".format('sqla'))\n",
    "        .option(\"dbtable\", 'emp')\n",
    "        .option(\"user\", 'postgres')\n",
    "        .option(\"password\", 'admin123')\n",
    "        .option(\"driver\", \"org.postgresql.Driver\").load())\n",
    "\n",
    "job_clerk = (data\n",
    "             .select(\"ename\", \"job\",\"sal\")\n",
    "             .filter(\"job == 'CLERK'\"))\n",
    "job_clerk.createOrReplaceTempView(\"job_clerk\")\n"
   ]
  },
  {
   "cell_type": "code",
   "execution_count": 29,
   "metadata": {},
   "outputs": [
    {
     "name": "stdout",
     "output_type": "stream",
     "text": [
      "+-----+------+-------+------+--------+\n",
      "|empno| ename|    sal|deptno|   bonus|\n",
      "+-----+------+-------+------+--------+\n",
      "| 7839|  KING|5000.00|    10|1500.000|\n",
      "| 7934|MILLER|1300.00|    10| 130.000|\n",
      "| 7934|MILLER|1300.00|    10| 260.000|\n",
      "| 7782| CLARK|2450.00|    10| 245.000|\n",
      "+-----+------+-------+------+--------+\n",
      "\n"
     ]
    }
   ],
   "source": [
    "spark.sql(\n",
    "    \"\"\"\n",
    "    select eb.empno, e.ename, e.sal, e.deptno,\n",
    "    case\n",
    "        when eb.type = 1 then 0.1 * e.sal \n",
    "        when eb.type = 2 then 0.2 * e.sal \n",
    "        else 0.3* e.sal \n",
    "    end as bonus\n",
    "    from emp as e left outer join emp_bonus as eb\n",
    "    on(e.empno = eb.empno)\n",
    "    where e.deptno = 10\n",
    "    \"\"\"\n",
    ").show()"
   ]
  },
  {
   "cell_type": "code",
   "execution_count": null,
   "metadata": {},
   "outputs": [],
   "source": []
  },
  {
   "cell_type": "code",
   "execution_count": null,
   "metadata": {},
   "outputs": [],
   "source": []
  }
 ],
 "metadata": {
  "kernelspec": {
   "display_name": "Python 3",
   "language": "python",
   "name": "python3"
  },
  "language_info": {
   "codemirror_mode": {
    "name": "ipython",
    "version": 3
   },
   "file_extension": ".py",
   "mimetype": "text/x-python",
   "name": "python",
   "nbconvert_exporter": "python",
   "pygments_lexer": "ipython3",
   "version": "3.8.5"
  }
 },
 "nbformat": 4,
 "nbformat_minor": 4
}
